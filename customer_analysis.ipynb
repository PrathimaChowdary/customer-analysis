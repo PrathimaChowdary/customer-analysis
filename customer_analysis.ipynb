{
 "cells": [
  {
   "cell_type": "code",
   "execution_count": null,
   "metadata": {},
   "outputs": [],
   "source": [
    "# Import libraries\n",
    "import pandas as pd\n",
    "import matplotlib.pyplot as plt\n",
    "import seaborn as sns\n",
    "\n",
    "# Load data\n",
    "df = pd.read_csv(\"customer_sales_data.csv\")\n",
    "\n",
    "# Preview data\n",
    "print(df.head())\n",
    "\n",
    "# Add Total Price column\n",
    "df[\"TotalPrice\"] = df[\"Quantity\"] * df[\"UnitPrice\"]\n",
    "\n",
    "# Sales by Region\n",
    "sales_by_region = df.groupby(\"Region\")[\"TotalPrice\"].sum().reset_index()\n",
    "\n",
    "# Plot sales by region\n",
    "plt.figure(figsize=(8,5))\n",
    "sns.barplot(data=sales_by_region, x=\"Region\", y=\"TotalPrice\", palette=\"Blues_d\")\n",
    "plt.title(\"Sales by Region\")\n",
    "plt.xlabel(\"Region\")\n",
    "plt.ylabel(\"Total Sales ($)\")\n",
    "plt.tight_layout()\n",
    "plt.savefig(\"sales_by_region.png\")\n",
    "plt.show()\n",
    "\n",
    "# Top selling products\n",
    "top_products = df.groupby(\"Product\")[\"Quantity\"].sum().sort_values(ascending=False)\n",
    "print(\"Top selling products:\\n\", top_products)\n"
   ]
  }
 ],
 "metadata": {
  "language_info": {
   "name": "python"
  }
 },
 "nbformat": 4,
 "nbformat_minor": 2
}
